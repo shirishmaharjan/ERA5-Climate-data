{
 "cells": [
  {
   "cell_type": "markdown",
   "metadata": {},
   "source": [
    "## Analysis of ERA5 of year 2023 for suitable format for further analysis \n",
    "\n",
    "- Step 1 : We have our file name as \"20230101\", We need to keep in year, month, day column for further analysis. "
   ]
  },
  {
   "cell_type": "code",
   "execution_count": 2,
   "metadata": {},
   "outputs": [],
   "source": [
    "# Import necessary libraries \n",
    "\n",
    "import pandas as pd\n",
    "import os\n",
    "\n",
    "# Path to the folder containing CSV files\n",
    "folder_path = \"C:/GIIS/ERA 5 Hourly 2023/Python code/Code/ERA5_2023\"\n",
    "\n",
    "# Initialize an empty dataframe to store combined data\n",
    "combined_df = pd.DataFrame()\n",
    "\n",
    "# Iterate through each CSV file in the folder\n",
    "for file_name in os.listdir(folder_path):\n",
    "    if file_name.endswith('.csv'):\n",
    "        # Read CSV file into a dataframe\n",
    "        df = pd.read_csv(os.path.join(folder_path, file_name))\n",
    "        \n",
    "        # Extract year, month, and day from the file name\n",
    "        year = int(file_name[:4])\n",
    "        month = int(file_name[4:6])\n",
    "        day = int(file_name[6:8])\n",
    "        \n",
    "        # Add columns for year, month, and day\n",
    "        df['year'] = year\n",
    "        df['month'] = month\n",
    "        df['day'] = day\n",
    "        \n",
    "        # Add dataframe to the combined dataframe\n",
    "        combined_df = pd.concat([combined_df, df])\n",
    "\n",
    "# Reset index of the combined dataframe\n",
    "combined_df.reset_index(drop=True, inplace=True)\n",
    "\n",
    "# Write the combined dataframe to a new CSV file\n",
    "combined_df.to_csv('combined_data.csv', index=False)\n"
   ]
  }
 ],
 "metadata": {
  "kernelspec": {
   "display_name": "era5",
   "language": "python",
   "name": "python3"
  },
  "language_info": {
   "codemirror_mode": {
    "name": "ipython",
    "version": 3
   },
   "file_extension": ".py",
   "mimetype": "text/x-python",
   "name": "python",
   "nbconvert_exporter": "python",
   "pygments_lexer": "ipython3",
   "version": "3.11.4"
  }
 },
 "nbformat": 4,
 "nbformat_minor": 2
}
